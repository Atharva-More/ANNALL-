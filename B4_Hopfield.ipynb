{
  "nbformat": 4,
  "nbformat_minor": 0,
  "metadata": {
    "colab": {
      "provenance": []
    },
    "kernelspec": {
      "name": "python3",
      "display_name": "Python 3"
    },
    "language_info": {
      "name": "python"
    }
  },
  "cells": [
    {
      "cell_type": "code",
      "execution_count": null,
      "metadata": {
        "id": "pC2YemeuvERO"
      },
      "outputs": [],
      "source": [
        "x1 = [[1,1, 1, 1]];\n",
        "x2 = [[1,-1,-1, 1]];\n",
        "x3 = [[-1,1,-1,-1]];\n",
        "x4 = [[1,-1,-1,-1]];"
      ]
    },
    {
      "cell_type": "code",
      "source": [
        "import numpy as np\n",
        "# Transpose\n",
        "x11 = np.transpose(x1, axes = None)\n",
        "print(x11)\n",
        "w1 = x1*x11\n",
        "print(w1)\n",
        "x21 = np.transpose(x2, axes = None)\n",
        "print(x21)\n",
        "w2 = x2*x21\n",
        "print(w2)\n",
        "x31 = np.transpose(x3, axes = None)\n",
        "print(x31)\n",
        "w3 = x3*x31\n",
        "print(w3)\n",
        "x41 = np.transpose(x4, axes = None)\n",
        "print(x41)\n",
        "w4 = x4*x41\n",
        "print(w4)"
      ],
      "metadata": {
        "colab": {
          "base_uri": "https://localhost:8080/"
        },
        "id": "NVLSbyS1vdOf",
        "outputId": "886af496-8446-40da-a1f4-1fe6a213b8f5"
      },
      "execution_count": null,
      "outputs": [
        {
          "output_type": "stream",
          "name": "stdout",
          "text": [
            "[[1]\n",
            " [1]\n",
            " [1]\n",
            " [1]]\n",
            "[[1 1 1 1]\n",
            " [1 1 1 1]\n",
            " [1 1 1 1]\n",
            " [1 1 1 1]]\n",
            "[[ 1]\n",
            " [-1]\n",
            " [-1]\n",
            " [ 1]]\n",
            "[[ 1 -1 -1  1]\n",
            " [-1  1  1 -1]\n",
            " [-1  1  1 -1]\n",
            " [ 1 -1 -1  1]]\n",
            "[[-1]\n",
            " [ 1]\n",
            " [-1]\n",
            " [-1]]\n",
            "[[ 1 -1  1  1]\n",
            " [-1  1 -1 -1]\n",
            " [ 1 -1  1  1]\n",
            " [ 1 -1  1  1]]\n",
            "[[ 1]\n",
            " [-1]\n",
            " [-1]\n",
            " [-1]]\n",
            "[[ 1 -1 -1 -1]\n",
            " [-1  1  1  1]\n",
            " [-1  1  1  1]\n",
            " [-1  1  1  1]]\n"
          ]
        }
      ]
    },
    {
      "cell_type": "code",
      "source": [
        "W = w1+w2+w3+w4\n",
        "print(W)"
      ],
      "metadata": {
        "colab": {
          "base_uri": "https://localhost:8080/"
        },
        "id": "uFREmdIm2A1G",
        "outputId": "e8b0cd35-0707-4b88-e06d-52344a201b7d"
      },
      "execution_count": null,
      "outputs": [
        {
          "output_type": "stream",
          "name": "stdout",
          "text": [
            "[[ 4 -2  0  2]\n",
            " [-2  4  2  0]\n",
            " [ 0  2  4  2]\n",
            " [ 2  0  2  4]]\n"
          ]
        }
      ]
    },
    {
      "cell_type": "code",
      "source": [
        "np.dot(x1,W)"
      ],
      "metadata": {
        "colab": {
          "base_uri": "https://localhost:8080/"
        },
        "id": "8b1Cep27d_Fx",
        "outputId": "1155e7f6-5865-4fc4-ba19-46ad84d7f733"
      },
      "execution_count": null,
      "outputs": [
        {
          "output_type": "execute_result",
          "data": {
            "text/plain": [
              "array([[4, 4, 8, 8]])"
            ]
          },
          "metadata": {},
          "execution_count": 6
        }
      ]
    },
    {
      "cell_type": "code",
      "source": [
        "def make_diagonal_zero(matrix):\n",
        "    for i in range(min(len(matrix), len(matrix[0]))):\n",
        "        matrix[i][i] = 0\n",
        "    return matrix"
      ],
      "metadata": {
        "id": "ONam4Qhi9dpm"
      },
      "execution_count": null,
      "outputs": []
    },
    {
      "cell_type": "code",
      "source": [],
      "metadata": {
        "id": "g4Bi8_BkJDhW"
      },
      "execution_count": null,
      "outputs": []
    },
    {
      "cell_type": "code",
      "source": [
        "W_rev = make_diagonal_zero(W)\n",
        "print(W_rev)"
      ],
      "metadata": {
        "colab": {
          "base_uri": "https://localhost:8080/"
        },
        "id": "HfEDGCw76Y8-",
        "outputId": "84bbc34c-5d4b-4acd-e584-e6f63018bbc5"
      },
      "execution_count": null,
      "outputs": [
        {
          "output_type": "stream",
          "name": "stdout",
          "text": [
            "[[ 0 -2  0  2]\n",
            " [-2  0  2  0]\n",
            " [ 0  2  0  2]\n",
            " [ 2  0  2  0]]\n"
          ]
        }
      ]
    },
    {
      "cell_type": "code",
      "source": [
        "print(W)"
      ],
      "metadata": {
        "colab": {
          "base_uri": "https://localhost:8080/"
        },
        "id": "BMs0mhLpZiAh",
        "outputId": "1974bd7b-daa5-466b-9a4c-c6e1e28cd734"
      },
      "execution_count": null,
      "outputs": [
        {
          "output_type": "stream",
          "name": "stdout",
          "text": [
            "[[ 0 -2  0  2]\n",
            " [-2  0  2  0]\n",
            " [ 0  2  0  2]\n",
            " [ 2  0  2  0]]\n"
          ]
        }
      ]
    },
    {
      "cell_type": "code",
      "source": [
        "# testing of the Hopfield vectors\n",
        "xt1 = np.dot(x1,W_rev)\n",
        "print(xt1)"
      ],
      "metadata": {
        "colab": {
          "base_uri": "https://localhost:8080/"
        },
        "id": "GrJWtLM12v0t",
        "outputId": "55b0771e-71ea-4e0e-aa5d-67950c41b956"
      },
      "execution_count": null,
      "outputs": [
        {
          "output_type": "stream",
          "name": "stdout",
          "text": [
            "[[0 0 4 4]]\n"
          ]
        }
      ]
    },
    {
      "cell_type": "code",
      "source": [
        "def activate(x, theta=0):\n",
        "    return np.where(x>theta, 1, np.where(x == theta, x, 0))"
      ],
      "metadata": {
        "id": "21RI3oevZSN8"
      },
      "execution_count": null,
      "outputs": []
    },
    {
      "cell_type": "code",
      "source": [
        "xt1_act = activate(xt1)\n",
        "print(xt1_act)"
      ],
      "metadata": {
        "colab": {
          "base_uri": "https://localhost:8080/"
        },
        "id": "uI16aI50cgsZ",
        "outputId": "e586e9f9-7c19-4f87-9b51-2340d7ef35df"
      },
      "execution_count": null,
      "outputs": [
        {
          "output_type": "stream",
          "name": "stdout",
          "text": [
            "[[0 0 1 1]]\n"
          ]
        }
      ]
    },
    {
      "cell_type": "code",
      "source": [
        "if(np.array_equal(x1, xt1_act)):\n",
        "  print(\"testing complete\")\n",
        "else: print(\"testing failed\")"
      ],
      "metadata": {
        "colab": {
          "base_uri": "https://localhost:8080/"
        },
        "id": "iAKLSgoDcw0p",
        "outputId": "4d3bcd8f-bd7c-44cb-f16c-6ce234347a80"
      },
      "execution_count": null,
      "outputs": [
        {
          "output_type": "stream",
          "name": "stdout",
          "text": [
            "testing failed\n"
          ]
        }
      ]
    },
    {
      "cell_type": "code",
      "source": [],
      "metadata": {
        "id": "ETHa_qP_enBm"
      },
      "execution_count": null,
      "outputs": []
    }
  ]
}